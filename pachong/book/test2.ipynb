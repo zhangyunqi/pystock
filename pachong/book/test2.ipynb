{
 "cells": [
  {
   "cell_type": "code",
   "execution_count": 12,
   "metadata": {
    "collapsed": true,
    "pycharm": {
     "name": "#%%\n"
    }
   },
   "outputs": [
    {
     "data": {
      "text/plain": "              日期     股票代码    名称         收盘价    最高价    最低价    开盘价    前收盘  \\\n0     2021-08-24  '600000  浦发银行  129.695220   9.30   9.17   9.22   9.20   \n1     2021-08-23  '600000  浦发银行  129.554400   9.31   9.20   9.30   9.27   \n2     2021-08-20  '600000  浦发银行  130.540140   9.30   9.18   9.25   9.23   \n3     2021-08-19  '600000  浦发银行  129.976860   9.34   9.19   9.34   9.33   \n4     2021-08-18  '600000  浦发银行  131.385060   9.39   9.16   9.20   9.19   \n...          ...      ...   ...         ...    ...    ...    ...    ...   \n5277  1999-11-16  '600000  浦发银行    1.885386  27.97  26.48  27.88  27.75   \n5278  1999-11-15  '600000  浦发银行    1.970601  28.25  27.70  28.20  28.05   \n5279  1999-11-12  '600000  浦发银行    1.991905  28.30  27.77  27.86  27.71   \n5280  1999-11-11  '600000  浦发银行    1.967760  28.38  27.53  27.58  27.75   \n5281  1999-11-10  '600000  浦发银行    1.970601  29.80  27.00  29.50  10.00   \n\n        涨跌额      涨跌幅      换手率        成交量          成交金额           总市值  \\\n0      0.01   0.1087   0.1391   40815968  3.765734e+08  2.703334e+11   \n1     -0.07  -0.7551   0.1104   32418942  2.995025e+08  2.700399e+11   \n2      0.04   0.4334   0.1205   35374387  3.270375e+08  2.720945e+11   \n3      -0.1  -1.0718   0.1240   36391371  3.361721e+08  2.709204e+11   \n4      0.14   1.5234   0.1479   43424745  4.031589e+08  2.738557e+11   \n...     ...      ...      ...        ...           ...           ...   \n5277   -1.2  -4.3243   7.2572   23223120  6.289083e+08  6.398550e+10   \n5278   -0.3  -1.0695   3.7253   11921071  3.329528e+08  6.687750e+10   \n5279   0.34    1.227   4.6900   15007963  4.215916e+08  6.760050e+10   \n5280  -0.04  -0.1441   9.1886   29403491  8.215822e+08  6.678110e+10   \n5281  17.75    177.5  54.4016  174085055  4.859102e+09  6.687750e+10   \n\n              流通市值  \n0     2.703334e+11  \n1     2.700399e+11  \n2     2.720945e+11  \n3     2.709204e+11  \n4     2.738557e+11  \n...            ...  \n5277  8.496000e+09  \n5278  8.880000e+09  \n5279  8.976000e+09  \n5280  8.867200e+09  \n5281  8.880000e+09  \n\n[5282 rows x 15 columns]",
      "text/html": "<div>\n<style scoped>\n    .dataframe tbody tr th:only-of-type {\n        vertical-align: middle;\n    }\n\n    .dataframe tbody tr th {\n        vertical-align: top;\n    }\n\n    .dataframe thead th {\n        text-align: right;\n    }\n</style>\n<table border=\"1\" class=\"dataframe\">\n  <thead>\n    <tr style=\"text-align: right;\">\n      <th></th>\n      <th>日期</th>\n      <th>股票代码</th>\n      <th>名称</th>\n      <th>收盘价</th>\n      <th>最高价</th>\n      <th>最低价</th>\n      <th>开盘价</th>\n      <th>前收盘</th>\n      <th>涨跌额</th>\n      <th>涨跌幅</th>\n      <th>换手率</th>\n      <th>成交量</th>\n      <th>成交金额</th>\n      <th>总市值</th>\n      <th>流通市值</th>\n    </tr>\n  </thead>\n  <tbody>\n    <tr>\n      <th>0</th>\n      <td>2021-08-24</td>\n      <td>'600000</td>\n      <td>浦发银行</td>\n      <td>129.695220</td>\n      <td>9.30</td>\n      <td>9.17</td>\n      <td>9.22</td>\n      <td>9.20</td>\n      <td>0.01</td>\n      <td>0.1087</td>\n      <td>0.1391</td>\n      <td>40815968</td>\n      <td>3.765734e+08</td>\n      <td>2.703334e+11</td>\n      <td>2.703334e+11</td>\n    </tr>\n    <tr>\n      <th>1</th>\n      <td>2021-08-23</td>\n      <td>'600000</td>\n      <td>浦发银行</td>\n      <td>129.554400</td>\n      <td>9.31</td>\n      <td>9.20</td>\n      <td>9.30</td>\n      <td>9.27</td>\n      <td>-0.07</td>\n      <td>-0.7551</td>\n      <td>0.1104</td>\n      <td>32418942</td>\n      <td>2.995025e+08</td>\n      <td>2.700399e+11</td>\n      <td>2.700399e+11</td>\n    </tr>\n    <tr>\n      <th>2</th>\n      <td>2021-08-20</td>\n      <td>'600000</td>\n      <td>浦发银行</td>\n      <td>130.540140</td>\n      <td>9.30</td>\n      <td>9.18</td>\n      <td>9.25</td>\n      <td>9.23</td>\n      <td>0.04</td>\n      <td>0.4334</td>\n      <td>0.1205</td>\n      <td>35374387</td>\n      <td>3.270375e+08</td>\n      <td>2.720945e+11</td>\n      <td>2.720945e+11</td>\n    </tr>\n    <tr>\n      <th>3</th>\n      <td>2021-08-19</td>\n      <td>'600000</td>\n      <td>浦发银行</td>\n      <td>129.976860</td>\n      <td>9.34</td>\n      <td>9.19</td>\n      <td>9.34</td>\n      <td>9.33</td>\n      <td>-0.1</td>\n      <td>-1.0718</td>\n      <td>0.1240</td>\n      <td>36391371</td>\n      <td>3.361721e+08</td>\n      <td>2.709204e+11</td>\n      <td>2.709204e+11</td>\n    </tr>\n    <tr>\n      <th>4</th>\n      <td>2021-08-18</td>\n      <td>'600000</td>\n      <td>浦发银行</td>\n      <td>131.385060</td>\n      <td>9.39</td>\n      <td>9.16</td>\n      <td>9.20</td>\n      <td>9.19</td>\n      <td>0.14</td>\n      <td>1.5234</td>\n      <td>0.1479</td>\n      <td>43424745</td>\n      <td>4.031589e+08</td>\n      <td>2.738557e+11</td>\n      <td>2.738557e+11</td>\n    </tr>\n    <tr>\n      <th>...</th>\n      <td>...</td>\n      <td>...</td>\n      <td>...</td>\n      <td>...</td>\n      <td>...</td>\n      <td>...</td>\n      <td>...</td>\n      <td>...</td>\n      <td>...</td>\n      <td>...</td>\n      <td>...</td>\n      <td>...</td>\n      <td>...</td>\n      <td>...</td>\n      <td>...</td>\n    </tr>\n    <tr>\n      <th>5277</th>\n      <td>1999-11-16</td>\n      <td>'600000</td>\n      <td>浦发银行</td>\n      <td>1.885386</td>\n      <td>27.97</td>\n      <td>26.48</td>\n      <td>27.88</td>\n      <td>27.75</td>\n      <td>-1.2</td>\n      <td>-4.3243</td>\n      <td>7.2572</td>\n      <td>23223120</td>\n      <td>6.289083e+08</td>\n      <td>6.398550e+10</td>\n      <td>8.496000e+09</td>\n    </tr>\n    <tr>\n      <th>5278</th>\n      <td>1999-11-15</td>\n      <td>'600000</td>\n      <td>浦发银行</td>\n      <td>1.970601</td>\n      <td>28.25</td>\n      <td>27.70</td>\n      <td>28.20</td>\n      <td>28.05</td>\n      <td>-0.3</td>\n      <td>-1.0695</td>\n      <td>3.7253</td>\n      <td>11921071</td>\n      <td>3.329528e+08</td>\n      <td>6.687750e+10</td>\n      <td>8.880000e+09</td>\n    </tr>\n    <tr>\n      <th>5279</th>\n      <td>1999-11-12</td>\n      <td>'600000</td>\n      <td>浦发银行</td>\n      <td>1.991905</td>\n      <td>28.30</td>\n      <td>27.77</td>\n      <td>27.86</td>\n      <td>27.71</td>\n      <td>0.34</td>\n      <td>1.227</td>\n      <td>4.6900</td>\n      <td>15007963</td>\n      <td>4.215916e+08</td>\n      <td>6.760050e+10</td>\n      <td>8.976000e+09</td>\n    </tr>\n    <tr>\n      <th>5280</th>\n      <td>1999-11-11</td>\n      <td>'600000</td>\n      <td>浦发银行</td>\n      <td>1.967760</td>\n      <td>28.38</td>\n      <td>27.53</td>\n      <td>27.58</td>\n      <td>27.75</td>\n      <td>-0.04</td>\n      <td>-0.1441</td>\n      <td>9.1886</td>\n      <td>29403491</td>\n      <td>8.215822e+08</td>\n      <td>6.678110e+10</td>\n      <td>8.867200e+09</td>\n    </tr>\n    <tr>\n      <th>5281</th>\n      <td>1999-11-10</td>\n      <td>'600000</td>\n      <td>浦发银行</td>\n      <td>1.970601</td>\n      <td>29.80</td>\n      <td>27.00</td>\n      <td>29.50</td>\n      <td>10.00</td>\n      <td>17.75</td>\n      <td>177.5</td>\n      <td>54.4016</td>\n      <td>174085055</td>\n      <td>4.859102e+09</td>\n      <td>6.687750e+10</td>\n      <td>8.880000e+09</td>\n    </tr>\n  </tbody>\n</table>\n<p>5282 rows × 15 columns</p>\n</div>"
     },
     "execution_count": 12,
     "metadata": {},
     "output_type": "execute_result"
    }
   ],
   "source": [
    "import pandas as pd\n",
    "from pandas import DataFrame\n",
    "from stockstats import StockDataFrame\n",
    "# 股票数据\n",
    "\n",
    "stock_datas: pd.DataFrame = pd.read_csv(\"C:/Users/zhangyunqi/PycharmProjects/pystock/data/stock/0600000.csv\"\n",
    "                                        , encoding=\"GBK\")\n",
    "# 股票复权因子数据\n",
    "stock_factors: pd.DataFrame = pd.read_csv(\"C:/Users/zhangyunqi/PycharmProjects/pystock/data/factor/0600000.csv\"\n",
    "                                          , encoding=\"GBK\", index_col='trade_date')\n",
    "\n",
    "stock_datas[\"收盘价\"] = list(map(lambda x, y: y * stock_factors.loc[int(str.replace(x, '-', ''))]['adj_factor'],\n",
    "                              stock_datas[\"日期\"], stock_datas[\"收盘价\"]))\n",
    "\n",
    "stock_datas\n",
    "\n",
    "new_factor = stock_factors.iloc[0]['adj_factor']\n",
    "stock_datas[\"收盘价\"] = list(map(lambda x, y: y * (stock_factors.loc[int(str.replace(x, '-', ''))]['adj_factor'])/ new_factor,\n",
    "                              stock_datas[\"日期\"], stock_datas[\"收盘价\"]))\n",
    "stock_datas"
   ]
  }
 ],
 "metadata": {
  "kernelspec": {
   "display_name": "Python 3",
   "language": "python",
   "name": "python3"
  },
  "language_info": {
   "codemirror_mode": {
    "name": "ipython",
    "version": 2
   },
   "file_extension": ".py",
   "mimetype": "text/x-python",
   "name": "python",
   "nbconvert_exporter": "python",
   "pygments_lexer": "ipython2",
   "version": "2.7.6"
  }
 },
 "nbformat": 4,
 "nbformat_minor": 0
}