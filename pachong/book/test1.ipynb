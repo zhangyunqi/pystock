{
 "cells": [
  {
   "cell_type": "code",
   "execution_count": 36,
   "metadata": {
    "collapsed": true
   },
   "outputs": [
    {
     "data": {
      "text/plain": "            close   high    low   open    涨跌额      涨跌幅      换手率     volume  \\\ndate                                                                         \n1999-11-10  27.75  29.80  27.00  29.50  17.75    177.5  54.4016  174085055   \n1999-11-11  27.71  28.38  27.53  27.58  -0.04  -0.1441   9.1886   29403491   \n1999-11-12  28.05  28.30  27.77  27.86   0.34    1.227   4.6900   15007963   \n1999-11-15  27.75  28.25  27.70  28.20   -0.3  -1.0695   3.7253   11921071   \n1999-11-16  26.55  27.97  26.48  27.88   -1.2  -4.3243   7.2572   23223120   \n...           ...    ...    ...    ...    ...      ...      ...        ...   \n2021-08-18   9.33   9.39   9.16   9.20   0.14   1.5234   0.1479   43424745   \n2021-08-19   9.23   9.34   9.19   9.34   -0.1  -1.0718   0.1240   36391371   \n2021-08-20   9.27   9.30   9.18   9.25   0.04   0.4334   0.1205   35374387   \n2021-08-23   9.20   9.31   9.20   9.30  -0.07  -0.7551   0.1104   32418942   \n2021-08-24   9.21   9.30   9.17   9.22   0.01   0.1087   0.1391   40815968   \n\n            close_5_sma  close_10_sma  ...     kdjj_9       kdjj  close_-1_s  \\\ndate                                   ...                                     \n1999-11-10    27.750000     27.750000  ...  31.944444  31.944444         NaN   \n1999-11-11    27.730000     27.730000  ...  22.235450  22.235450       27.75   \n1999-11-12    27.836667     27.836667  ...  27.711640  27.711640       27.71   \n1999-11-15    27.815000     27.815000  ...  22.899765  22.899765       28.05   \n1999-11-16    27.562000     27.562000  ...   1.999485   1.999485       27.75   \n...                 ...           ...  ...        ...        ...         ...   \n2021-08-18     9.218000      9.180000  ...  89.956205  89.956205        9.19   \n2021-08-19     9.230000      9.198000  ...  69.417504  69.417504        9.33   \n2021-08-20     9.248000      9.217000  ...  62.875889  62.875889        9.23   \n2021-08-23     9.244000      9.220000  ...  32.568501  32.568501        9.27   \n2021-08-24     9.248000      9.221000  ...  21.257607  21.257607        9.20   \n\n            close_-1_d       rs_6      rsi_6     rs_12     rsi_12     rs_24  \\\ndate                                                                          \n1999-11-10         NaN        NaN        NaN       NaN        NaN       NaN   \n1999-11-11       -0.04   0.000000   0.000000  0.000000   0.000000  0.000000   \n1999-11-12        0.34  10.200000  91.071429  9.272727  90.265487  8.869565   \n1999-11-15       -0.30   0.864407  46.363636  0.934221  48.299613  0.967622   \n1999-11-16       -1.20   0.160277  13.813651  0.189728  15.947179  0.205067   \n...                ...        ...        ...       ...        ...       ...   \n2021-08-18        0.14   2.177576  68.529471  0.999384  49.984595  0.739742   \n2021-08-19       -0.10   1.045362  51.108892  0.779975  43.819441  0.667027   \n2021-08-20        0.04   1.294934  56.425764  0.875776  46.688736  0.708055   \n2021-08-23       -0.07   0.849637  45.935350  0.740368  42.540892  0.658704   \n2021-08-24        0.01   0.908588  47.605234  0.764464  43.325564  0.669094   \n\n               rsi_24  \ndate                   \n1999-11-10        NaN  \n1999-11-11   0.000000  \n1999-11-12  89.867841  \n1999-11-15  49.177235  \n1999-11-16  17.017076  \n...               ...  \n2021-08-18  42.520197  \n2021-08-19  40.012954  \n2021-08-20  41.453883  \n2021-08-23  39.711964  \n2021-08-24  40.087254  \n\n[5164 rows x 35 columns]",
      "text/html": "<div>\n<style scoped>\n    .dataframe tbody tr th:only-of-type {\n        vertical-align: middle;\n    }\n\n    .dataframe tbody tr th {\n        vertical-align: top;\n    }\n\n    .dataframe thead th {\n        text-align: right;\n    }\n</style>\n<table border=\"1\" class=\"dataframe\">\n  <thead>\n    <tr style=\"text-align: right;\">\n      <th></th>\n      <th>close</th>\n      <th>high</th>\n      <th>low</th>\n      <th>open</th>\n      <th>涨跌额</th>\n      <th>涨跌幅</th>\n      <th>换手率</th>\n      <th>volume</th>\n      <th>close_5_sma</th>\n      <th>close_10_sma</th>\n      <th>...</th>\n      <th>kdjj_9</th>\n      <th>kdjj</th>\n      <th>close_-1_s</th>\n      <th>close_-1_d</th>\n      <th>rs_6</th>\n      <th>rsi_6</th>\n      <th>rs_12</th>\n      <th>rsi_12</th>\n      <th>rs_24</th>\n      <th>rsi_24</th>\n    </tr>\n    <tr>\n      <th>date</th>\n      <th></th>\n      <th></th>\n      <th></th>\n      <th></th>\n      <th></th>\n      <th></th>\n      <th></th>\n      <th></th>\n      <th></th>\n      <th></th>\n      <th></th>\n      <th></th>\n      <th></th>\n      <th></th>\n      <th></th>\n      <th></th>\n      <th></th>\n      <th></th>\n      <th></th>\n      <th></th>\n      <th></th>\n    </tr>\n  </thead>\n  <tbody>\n    <tr>\n      <th>1999-11-10</th>\n      <td>27.75</td>\n      <td>29.80</td>\n      <td>27.00</td>\n      <td>29.50</td>\n      <td>17.75</td>\n      <td>177.5</td>\n      <td>54.4016</td>\n      <td>174085055</td>\n      <td>27.750000</td>\n      <td>27.750000</td>\n      <td>...</td>\n      <td>31.944444</td>\n      <td>31.944444</td>\n      <td>NaN</td>\n      <td>NaN</td>\n      <td>NaN</td>\n      <td>NaN</td>\n      <td>NaN</td>\n      <td>NaN</td>\n      <td>NaN</td>\n      <td>NaN</td>\n    </tr>\n    <tr>\n      <th>1999-11-11</th>\n      <td>27.71</td>\n      <td>28.38</td>\n      <td>27.53</td>\n      <td>27.58</td>\n      <td>-0.04</td>\n      <td>-0.1441</td>\n      <td>9.1886</td>\n      <td>29403491</td>\n      <td>27.730000</td>\n      <td>27.730000</td>\n      <td>...</td>\n      <td>22.235450</td>\n      <td>22.235450</td>\n      <td>27.75</td>\n      <td>-0.04</td>\n      <td>0.000000</td>\n      <td>0.000000</td>\n      <td>0.000000</td>\n      <td>0.000000</td>\n      <td>0.000000</td>\n      <td>0.000000</td>\n    </tr>\n    <tr>\n      <th>1999-11-12</th>\n      <td>28.05</td>\n      <td>28.30</td>\n      <td>27.77</td>\n      <td>27.86</td>\n      <td>0.34</td>\n      <td>1.227</td>\n      <td>4.6900</td>\n      <td>15007963</td>\n      <td>27.836667</td>\n      <td>27.836667</td>\n      <td>...</td>\n      <td>27.711640</td>\n      <td>27.711640</td>\n      <td>27.71</td>\n      <td>0.34</td>\n      <td>10.200000</td>\n      <td>91.071429</td>\n      <td>9.272727</td>\n      <td>90.265487</td>\n      <td>8.869565</td>\n      <td>89.867841</td>\n    </tr>\n    <tr>\n      <th>1999-11-15</th>\n      <td>27.75</td>\n      <td>28.25</td>\n      <td>27.70</td>\n      <td>28.20</td>\n      <td>-0.3</td>\n      <td>-1.0695</td>\n      <td>3.7253</td>\n      <td>11921071</td>\n      <td>27.815000</td>\n      <td>27.815000</td>\n      <td>...</td>\n      <td>22.899765</td>\n      <td>22.899765</td>\n      <td>28.05</td>\n      <td>-0.30</td>\n      <td>0.864407</td>\n      <td>46.363636</td>\n      <td>0.934221</td>\n      <td>48.299613</td>\n      <td>0.967622</td>\n      <td>49.177235</td>\n    </tr>\n    <tr>\n      <th>1999-11-16</th>\n      <td>26.55</td>\n      <td>27.97</td>\n      <td>26.48</td>\n      <td>27.88</td>\n      <td>-1.2</td>\n      <td>-4.3243</td>\n      <td>7.2572</td>\n      <td>23223120</td>\n      <td>27.562000</td>\n      <td>27.562000</td>\n      <td>...</td>\n      <td>1.999485</td>\n      <td>1.999485</td>\n      <td>27.75</td>\n      <td>-1.20</td>\n      <td>0.160277</td>\n      <td>13.813651</td>\n      <td>0.189728</td>\n      <td>15.947179</td>\n      <td>0.205067</td>\n      <td>17.017076</td>\n    </tr>\n    <tr>\n      <th>...</th>\n      <td>...</td>\n      <td>...</td>\n      <td>...</td>\n      <td>...</td>\n      <td>...</td>\n      <td>...</td>\n      <td>...</td>\n      <td>...</td>\n      <td>...</td>\n      <td>...</td>\n      <td>...</td>\n      <td>...</td>\n      <td>...</td>\n      <td>...</td>\n      <td>...</td>\n      <td>...</td>\n      <td>...</td>\n      <td>...</td>\n      <td>...</td>\n      <td>...</td>\n      <td>...</td>\n    </tr>\n    <tr>\n      <th>2021-08-18</th>\n      <td>9.33</td>\n      <td>9.39</td>\n      <td>9.16</td>\n      <td>9.20</td>\n      <td>0.14</td>\n      <td>1.5234</td>\n      <td>0.1479</td>\n      <td>43424745</td>\n      <td>9.218000</td>\n      <td>9.180000</td>\n      <td>...</td>\n      <td>89.956205</td>\n      <td>89.956205</td>\n      <td>9.19</td>\n      <td>0.14</td>\n      <td>2.177576</td>\n      <td>68.529471</td>\n      <td>0.999384</td>\n      <td>49.984595</td>\n      <td>0.739742</td>\n      <td>42.520197</td>\n    </tr>\n    <tr>\n      <th>2021-08-19</th>\n      <td>9.23</td>\n      <td>9.34</td>\n      <td>9.19</td>\n      <td>9.34</td>\n      <td>-0.1</td>\n      <td>-1.0718</td>\n      <td>0.1240</td>\n      <td>36391371</td>\n      <td>9.230000</td>\n      <td>9.198000</td>\n      <td>...</td>\n      <td>69.417504</td>\n      <td>69.417504</td>\n      <td>9.33</td>\n      <td>-0.10</td>\n      <td>1.045362</td>\n      <td>51.108892</td>\n      <td>0.779975</td>\n      <td>43.819441</td>\n      <td>0.667027</td>\n      <td>40.012954</td>\n    </tr>\n    <tr>\n      <th>2021-08-20</th>\n      <td>9.27</td>\n      <td>9.30</td>\n      <td>9.18</td>\n      <td>9.25</td>\n      <td>0.04</td>\n      <td>0.4334</td>\n      <td>0.1205</td>\n      <td>35374387</td>\n      <td>9.248000</td>\n      <td>9.217000</td>\n      <td>...</td>\n      <td>62.875889</td>\n      <td>62.875889</td>\n      <td>9.23</td>\n      <td>0.04</td>\n      <td>1.294934</td>\n      <td>56.425764</td>\n      <td>0.875776</td>\n      <td>46.688736</td>\n      <td>0.708055</td>\n      <td>41.453883</td>\n    </tr>\n    <tr>\n      <th>2021-08-23</th>\n      <td>9.20</td>\n      <td>9.31</td>\n      <td>9.20</td>\n      <td>9.30</td>\n      <td>-0.07</td>\n      <td>-0.7551</td>\n      <td>0.1104</td>\n      <td>32418942</td>\n      <td>9.244000</td>\n      <td>9.220000</td>\n      <td>...</td>\n      <td>32.568501</td>\n      <td>32.568501</td>\n      <td>9.27</td>\n      <td>-0.07</td>\n      <td>0.849637</td>\n      <td>45.935350</td>\n      <td>0.740368</td>\n      <td>42.540892</td>\n      <td>0.658704</td>\n      <td>39.711964</td>\n    </tr>\n    <tr>\n      <th>2021-08-24</th>\n      <td>9.21</td>\n      <td>9.30</td>\n      <td>9.17</td>\n      <td>9.22</td>\n      <td>0.01</td>\n      <td>0.1087</td>\n      <td>0.1391</td>\n      <td>40815968</td>\n      <td>9.248000</td>\n      <td>9.221000</td>\n      <td>...</td>\n      <td>21.257607</td>\n      <td>21.257607</td>\n      <td>9.20</td>\n      <td>0.01</td>\n      <td>0.908588</td>\n      <td>47.605234</td>\n      <td>0.764464</td>\n      <td>43.325564</td>\n      <td>0.669094</td>\n      <td>40.087254</td>\n    </tr>\n  </tbody>\n</table>\n<p>5164 rows × 35 columns</p>\n</div>"
     },
     "execution_count": 36,
     "metadata": {},
     "output_type": "execute_result"
    }
   ],
   "source": [
    "import pandas as pd\n",
    "from pandas import DataFrame\n",
    "from stockstats import StockDataFrame\n",
    "data: pd.DataFrame = pd.read_csv(\"C:/Users/zhangyunqi/PycharmProjects/pystock/data/stock/0600000.csv\"\n",
    "                                 , encoding=\"GBK\"\n",
    "                                 , usecols=[\"日期\", \"收盘价\", \"最高价\", \"最低价\", \"开盘价\", \"成交量\",\"涨跌幅\",\"涨跌额\",\"换手率\"])\n",
    "# 过滤停牌的交易日，条件\"收盘价\",\"最高价\",\"最低价\",\"开盘价\",\"成交量\"均为0\n",
    "data = data[(data[\"收盘价\"] != 0) & (data[\"最高价\"] != 0)\n",
    "            & (data[\"最低价\"] != 0) & (data[\"开盘价\"] != 0)\n",
    "            & (data[\"成交量\"] != 0)]\n",
    "# 修改列\n",
    "data.rename(columns={'日期': 'date', '收盘价': 'close', '最高价': 'high', '最低价': 'low', '开盘价': 'open', '成交量': 'volume'}\n",
    "            , inplace=True)\n",
    "# 将数据倒序输出\n",
    "data = data.reindex(index=data.index[::-1])\n",
    "stock = StockDataFrame.retype(data)\n",
    "# sma\n",
    "stock['close_5_sma'],stock['close_10_sma'],stock['close_30_sma'],stock['close_60_sma']\n",
    "# ema\n",
    "\n",
    "# boll:boll-中线  boll_ub:boll-up上线  boll_lb: boll下线\n",
    "stock['boll'], stock['boll_ub'], stock['boll_lb']\n",
    "# macd:DIF macds:DEA macdh*2:MACD\n",
    "stock['macd'], stock['macds'], stock['macdh']\n",
    "# kdj\n",
    "stock['kdjk'], stock['kdjd'], stock['kdjj']\n",
    "# rsi\n",
    "stock['rsi_6'],stock['rsi_12'],stock['rsi_24']\n",
    "stock"
   ]
  },
  {
   "cell_type": "code",
   "execution_count": 47,
   "outputs": [
    {
     "data": {
      "text/plain": "            date  close   high    low   open    涨跌额      涨跌幅      换手率  \\\n0     1999-11-10  27.75  29.80  27.00  29.50  17.75    177.5  54.4016   \n1     1999-11-11  27.71  28.38  27.53  27.58  -0.04  -0.1441   9.1886   \n2     1999-11-12  28.05  28.30  27.77  27.86   0.34    1.227   4.6900   \n3     1999-11-15  27.75  28.25  27.70  28.20   -0.3  -1.0695   3.7253   \n4     1999-11-16  26.55  27.97  26.48  27.88   -1.2  -4.3243   7.2572   \n...          ...    ...    ...    ...    ...    ...      ...      ...   \n5159  2021-08-18   9.33   9.39   9.16   9.20   0.14   1.5234   0.1479   \n5160  2021-08-19   9.23   9.34   9.19   9.34   -0.1  -1.0718   0.1240   \n5161  2021-08-20   9.27   9.30   9.18   9.25   0.04   0.4334   0.1205   \n5162  2021-08-23   9.20   9.31   9.20   9.30  -0.07  -0.7551   0.1104   \n5163  2021-08-24   9.21   9.30   9.17   9.22   0.01   0.1087   0.1391   \n\n         volume  close_5_sma  ...     kdjj_9       kdjj  close_-1_s  \\\n0     174085055    27.750000  ...  31.944444  31.944444         NaN   \n1      29403491    27.730000  ...  22.235450  22.235450       27.75   \n2      15007963    27.836667  ...  27.711640  27.711640       27.71   \n3      11921071    27.815000  ...  22.899765  22.899765       28.05   \n4      23223120    27.562000  ...   1.999485   1.999485       27.75   \n...         ...          ...  ...        ...        ...         ...   \n5159   43424745     9.218000  ...  89.956205  89.956205        9.19   \n5160   36391371     9.230000  ...  69.417504  69.417504        9.33   \n5161   35374387     9.248000  ...  62.875889  62.875889        9.23   \n5162   32418942     9.244000  ...  32.568501  32.568501        9.27   \n5163   40815968     9.248000  ...  21.257607  21.257607        9.20   \n\n      close_-1_d       rs_6      rsi_6     rs_12     rsi_12     rs_24  \\\n0            NaN        NaN        NaN       NaN        NaN       NaN   \n1          -0.04   0.000000   0.000000  0.000000   0.000000  0.000000   \n2           0.34  10.200000  91.071429  9.272727  90.265487  8.869565   \n3          -0.30   0.864407  46.363636  0.934221  48.299613  0.967622   \n4          -1.20   0.160277  13.813651  0.189728  15.947179  0.205067   \n...          ...        ...        ...       ...        ...       ...   \n5159        0.14   2.177576  68.529471  0.999384  49.984595  0.739742   \n5160       -0.10   1.045362  51.108892  0.779975  43.819441  0.667027   \n5161        0.04   1.294934  56.425764  0.875776  46.688736  0.708055   \n5162       -0.07   0.849637  45.935350  0.740368  42.540892  0.658704   \n5163        0.01   0.908588  47.605234  0.764464  43.325564  0.669094   \n\n         rsi_24  \n0           NaN  \n1      0.000000  \n2     89.867841  \n3     49.177235  \n4     17.017076  \n...         ...  \n5159  42.520197  \n5160  40.012954  \n5161  41.453883  \n5162  39.711964  \n5163  40.087254  \n\n[5164 rows x 36 columns]",
      "text/html": "<div>\n<style scoped>\n    .dataframe tbody tr th:only-of-type {\n        vertical-align: middle;\n    }\n\n    .dataframe tbody tr th {\n        vertical-align: top;\n    }\n\n    .dataframe thead th {\n        text-align: right;\n    }\n</style>\n<table border=\"1\" class=\"dataframe\">\n  <thead>\n    <tr style=\"text-align: right;\">\n      <th></th>\n      <th>date</th>\n      <th>close</th>\n      <th>high</th>\n      <th>low</th>\n      <th>open</th>\n      <th>涨跌额</th>\n      <th>涨跌幅</th>\n      <th>换手率</th>\n      <th>volume</th>\n      <th>close_5_sma</th>\n      <th>...</th>\n      <th>kdjj_9</th>\n      <th>kdjj</th>\n      <th>close_-1_s</th>\n      <th>close_-1_d</th>\n      <th>rs_6</th>\n      <th>rsi_6</th>\n      <th>rs_12</th>\n      <th>rsi_12</th>\n      <th>rs_24</th>\n      <th>rsi_24</th>\n    </tr>\n  </thead>\n  <tbody>\n    <tr>\n      <th>0</th>\n      <td>1999-11-10</td>\n      <td>27.75</td>\n      <td>29.80</td>\n      <td>27.00</td>\n      <td>29.50</td>\n      <td>17.75</td>\n      <td>177.5</td>\n      <td>54.4016</td>\n      <td>174085055</td>\n      <td>27.750000</td>\n      <td>...</td>\n      <td>31.944444</td>\n      <td>31.944444</td>\n      <td>NaN</td>\n      <td>NaN</td>\n      <td>NaN</td>\n      <td>NaN</td>\n      <td>NaN</td>\n      <td>NaN</td>\n      <td>NaN</td>\n      <td>NaN</td>\n    </tr>\n    <tr>\n      <th>1</th>\n      <td>1999-11-11</td>\n      <td>27.71</td>\n      <td>28.38</td>\n      <td>27.53</td>\n      <td>27.58</td>\n      <td>-0.04</td>\n      <td>-0.1441</td>\n      <td>9.1886</td>\n      <td>29403491</td>\n      <td>27.730000</td>\n      <td>...</td>\n      <td>22.235450</td>\n      <td>22.235450</td>\n      <td>27.75</td>\n      <td>-0.04</td>\n      <td>0.000000</td>\n      <td>0.000000</td>\n      <td>0.000000</td>\n      <td>0.000000</td>\n      <td>0.000000</td>\n      <td>0.000000</td>\n    </tr>\n    <tr>\n      <th>2</th>\n      <td>1999-11-12</td>\n      <td>28.05</td>\n      <td>28.30</td>\n      <td>27.77</td>\n      <td>27.86</td>\n      <td>0.34</td>\n      <td>1.227</td>\n      <td>4.6900</td>\n      <td>15007963</td>\n      <td>27.836667</td>\n      <td>...</td>\n      <td>27.711640</td>\n      <td>27.711640</td>\n      <td>27.71</td>\n      <td>0.34</td>\n      <td>10.200000</td>\n      <td>91.071429</td>\n      <td>9.272727</td>\n      <td>90.265487</td>\n      <td>8.869565</td>\n      <td>89.867841</td>\n    </tr>\n    <tr>\n      <th>3</th>\n      <td>1999-11-15</td>\n      <td>27.75</td>\n      <td>28.25</td>\n      <td>27.70</td>\n      <td>28.20</td>\n      <td>-0.3</td>\n      <td>-1.0695</td>\n      <td>3.7253</td>\n      <td>11921071</td>\n      <td>27.815000</td>\n      <td>...</td>\n      <td>22.899765</td>\n      <td>22.899765</td>\n      <td>28.05</td>\n      <td>-0.30</td>\n      <td>0.864407</td>\n      <td>46.363636</td>\n      <td>0.934221</td>\n      <td>48.299613</td>\n      <td>0.967622</td>\n      <td>49.177235</td>\n    </tr>\n    <tr>\n      <th>4</th>\n      <td>1999-11-16</td>\n      <td>26.55</td>\n      <td>27.97</td>\n      <td>26.48</td>\n      <td>27.88</td>\n      <td>-1.2</td>\n      <td>-4.3243</td>\n      <td>7.2572</td>\n      <td>23223120</td>\n      <td>27.562000</td>\n      <td>...</td>\n      <td>1.999485</td>\n      <td>1.999485</td>\n      <td>27.75</td>\n      <td>-1.20</td>\n      <td>0.160277</td>\n      <td>13.813651</td>\n      <td>0.189728</td>\n      <td>15.947179</td>\n      <td>0.205067</td>\n      <td>17.017076</td>\n    </tr>\n    <tr>\n      <th>...</th>\n      <td>...</td>\n      <td>...</td>\n      <td>...</td>\n      <td>...</td>\n      <td>...</td>\n      <td>...</td>\n      <td>...</td>\n      <td>...</td>\n      <td>...</td>\n      <td>...</td>\n      <td>...</td>\n      <td>...</td>\n      <td>...</td>\n      <td>...</td>\n      <td>...</td>\n      <td>...</td>\n      <td>...</td>\n      <td>...</td>\n      <td>...</td>\n      <td>...</td>\n      <td>...</td>\n    </tr>\n    <tr>\n      <th>5159</th>\n      <td>2021-08-18</td>\n      <td>9.33</td>\n      <td>9.39</td>\n      <td>9.16</td>\n      <td>9.20</td>\n      <td>0.14</td>\n      <td>1.5234</td>\n      <td>0.1479</td>\n      <td>43424745</td>\n      <td>9.218000</td>\n      <td>...</td>\n      <td>89.956205</td>\n      <td>89.956205</td>\n      <td>9.19</td>\n      <td>0.14</td>\n      <td>2.177576</td>\n      <td>68.529471</td>\n      <td>0.999384</td>\n      <td>49.984595</td>\n      <td>0.739742</td>\n      <td>42.520197</td>\n    </tr>\n    <tr>\n      <th>5160</th>\n      <td>2021-08-19</td>\n      <td>9.23</td>\n      <td>9.34</td>\n      <td>9.19</td>\n      <td>9.34</td>\n      <td>-0.1</td>\n      <td>-1.0718</td>\n      <td>0.1240</td>\n      <td>36391371</td>\n      <td>9.230000</td>\n      <td>...</td>\n      <td>69.417504</td>\n      <td>69.417504</td>\n      <td>9.33</td>\n      <td>-0.10</td>\n      <td>1.045362</td>\n      <td>51.108892</td>\n      <td>0.779975</td>\n      <td>43.819441</td>\n      <td>0.667027</td>\n      <td>40.012954</td>\n    </tr>\n    <tr>\n      <th>5161</th>\n      <td>2021-08-20</td>\n      <td>9.27</td>\n      <td>9.30</td>\n      <td>9.18</td>\n      <td>9.25</td>\n      <td>0.04</td>\n      <td>0.4334</td>\n      <td>0.1205</td>\n      <td>35374387</td>\n      <td>9.248000</td>\n      <td>...</td>\n      <td>62.875889</td>\n      <td>62.875889</td>\n      <td>9.23</td>\n      <td>0.04</td>\n      <td>1.294934</td>\n      <td>56.425764</td>\n      <td>0.875776</td>\n      <td>46.688736</td>\n      <td>0.708055</td>\n      <td>41.453883</td>\n    </tr>\n    <tr>\n      <th>5162</th>\n      <td>2021-08-23</td>\n      <td>9.20</td>\n      <td>9.31</td>\n      <td>9.20</td>\n      <td>9.30</td>\n      <td>-0.07</td>\n      <td>-0.7551</td>\n      <td>0.1104</td>\n      <td>32418942</td>\n      <td>9.244000</td>\n      <td>...</td>\n      <td>32.568501</td>\n      <td>32.568501</td>\n      <td>9.27</td>\n      <td>-0.07</td>\n      <td>0.849637</td>\n      <td>45.935350</td>\n      <td>0.740368</td>\n      <td>42.540892</td>\n      <td>0.658704</td>\n      <td>39.711964</td>\n    </tr>\n    <tr>\n      <th>5163</th>\n      <td>2021-08-24</td>\n      <td>9.21</td>\n      <td>9.30</td>\n      <td>9.17</td>\n      <td>9.22</td>\n      <td>0.01</td>\n      <td>0.1087</td>\n      <td>0.1391</td>\n      <td>40815968</td>\n      <td>9.248000</td>\n      <td>...</td>\n      <td>21.257607</td>\n      <td>21.257607</td>\n      <td>9.20</td>\n      <td>0.01</td>\n      <td>0.908588</td>\n      <td>47.605234</td>\n      <td>0.764464</td>\n      <td>43.325564</td>\n      <td>0.669094</td>\n      <td>40.087254</td>\n    </tr>\n  </tbody>\n</table>\n<p>5164 rows × 36 columns</p>\n</div>"
     },
     "execution_count": 47,
     "metadata": {},
     "output_type": "execute_result"
    }
   ],
   "source": [
    "stock.reset_index(drop=True)\n",
    "stock.reset_index(level=None, drop=False, inplace=False, col_level=0, col_fill='')"
   ],
   "metadata": {
    "collapsed": false,
    "pycharm": {
     "name": "#%%\n"
    }
   }
  },
  {
   "cell_type": "code",
   "execution_count": 76,
   "outputs": [
    {
     "name": "stdout",
     "output_type": "stream",
     "text": [
      "22\n",
      "11\n"
     ]
    },
    {
     "data": {
      "text/plain": "False"
     },
     "execution_count": 76,
     "metadata": {},
     "output_type": "execute_result"
    }
   ],
   "source": [
    "def aa(a):\n",
    "    print(11)\n",
    "    return a\n",
    "def bb(s):\n",
    "    print(22)\n",
    "    return s\n",
    "eval(\"(1==1)&aa(bb(False))\")"
   ],
   "metadata": {
    "collapsed": false,
    "pycharm": {
     "name": "#%%\n"
    }
   }
  }
 ],
 "metadata": {
  "kernelspec": {
   "display_name": "Python 3",
   "language": "python",
   "name": "python3"
  },
  "language_info": {
   "codemirror_mode": {
    "name": "ipython",
    "version": 2
   },
   "file_extension": ".py",
   "mimetype": "text/x-python",
   "name": "python",
   "nbconvert_exporter": "python",
   "pygments_lexer": "ipython2",
   "version": "2.7.6"
  }
 },
 "nbformat": 4,
 "nbformat_minor": 0
}