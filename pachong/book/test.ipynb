{
 "cells": [
  {
   "cell_type": "code",
   "execution_count": 37,
   "metadata": {
    "collapsed": true,
    "pycharm": {
     "name": "#%%\n"
    }
   },
   "outputs": [
    {
     "data": {
      "text/plain": "            close   high    low   open     volume\ndate                                             \n1999-11-10  27.75  29.80  27.00  29.50  174085055\n1999-11-11  27.71  28.38  27.53  27.58   29403491\n1999-11-12  28.05  28.30  27.77  27.86   15007963\n1999-11-15  27.75  28.25  27.70  28.20   11921071\n1999-11-16  26.55  27.97  26.48  27.88   23223120\n...           ...    ...    ...    ...        ...\n2021-08-18   9.33   9.39   9.16   9.20   43424745\n2021-08-19   9.23   9.34   9.19   9.34   36391371\n2021-08-20   9.27   9.30   9.18   9.25   35374387\n2021-08-23   9.20   9.31   9.20   9.30   32418942\n2021-08-24   9.21   9.30   9.17   9.22   40815968\n\n[5164 rows x 5 columns]",
      "text/html": "<div>\n<style scoped>\n    .dataframe tbody tr th:only-of-type {\n        vertical-align: middle;\n    }\n\n    .dataframe tbody tr th {\n        vertical-align: top;\n    }\n\n    .dataframe thead th {\n        text-align: right;\n    }\n</style>\n<table border=\"1\" class=\"dataframe\">\n  <thead>\n    <tr style=\"text-align: right;\">\n      <th></th>\n      <th>close</th>\n      <th>high</th>\n      <th>low</th>\n      <th>open</th>\n      <th>volume</th>\n    </tr>\n    <tr>\n      <th>date</th>\n      <th></th>\n      <th></th>\n      <th></th>\n      <th></th>\n      <th></th>\n    </tr>\n  </thead>\n  <tbody>\n    <tr>\n      <th>1999-11-10</th>\n      <td>27.75</td>\n      <td>29.80</td>\n      <td>27.00</td>\n      <td>29.50</td>\n      <td>174085055</td>\n    </tr>\n    <tr>\n      <th>1999-11-11</th>\n      <td>27.71</td>\n      <td>28.38</td>\n      <td>27.53</td>\n      <td>27.58</td>\n      <td>29403491</td>\n    </tr>\n    <tr>\n      <th>1999-11-12</th>\n      <td>28.05</td>\n      <td>28.30</td>\n      <td>27.77</td>\n      <td>27.86</td>\n      <td>15007963</td>\n    </tr>\n    <tr>\n      <th>1999-11-15</th>\n      <td>27.75</td>\n      <td>28.25</td>\n      <td>27.70</td>\n      <td>28.20</td>\n      <td>11921071</td>\n    </tr>\n    <tr>\n      <th>1999-11-16</th>\n      <td>26.55</td>\n      <td>27.97</td>\n      <td>26.48</td>\n      <td>27.88</td>\n      <td>23223120</td>\n    </tr>\n    <tr>\n      <th>...</th>\n      <td>...</td>\n      <td>...</td>\n      <td>...</td>\n      <td>...</td>\n      <td>...</td>\n    </tr>\n    <tr>\n      <th>2021-08-18</th>\n      <td>9.33</td>\n      <td>9.39</td>\n      <td>9.16</td>\n      <td>9.20</td>\n      <td>43424745</td>\n    </tr>\n    <tr>\n      <th>2021-08-19</th>\n      <td>9.23</td>\n      <td>9.34</td>\n      <td>9.19</td>\n      <td>9.34</td>\n      <td>36391371</td>\n    </tr>\n    <tr>\n      <th>2021-08-20</th>\n      <td>9.27</td>\n      <td>9.30</td>\n      <td>9.18</td>\n      <td>9.25</td>\n      <td>35374387</td>\n    </tr>\n    <tr>\n      <th>2021-08-23</th>\n      <td>9.20</td>\n      <td>9.31</td>\n      <td>9.20</td>\n      <td>9.30</td>\n      <td>32418942</td>\n    </tr>\n    <tr>\n      <th>2021-08-24</th>\n      <td>9.21</td>\n      <td>9.30</td>\n      <td>9.17</td>\n      <td>9.22</td>\n      <td>40815968</td>\n    </tr>\n  </tbody>\n</table>\n<p>5164 rows × 5 columns</p>\n</div>"
     },
     "execution_count": 37,
     "metadata": {},
     "output_type": "execute_result"
    }
   ],
   "source": [
    "import pandas as pd\n",
    "import stockstats\n",
    "from stockstats import StockDataFrame\n",
    "%matplotlib inline\n",
    "import matplotlib\n",
    "import matplotlib.pyplot as plt\n",
    "\n",
    "#date close\thigh low open volume amount\n",
    "data: pd.DataFrame = pd.read_csv(\"C:/Users/zhangyunqi/PycharmProjects/pystock/data/stock/0600000.csv\"\n",
    "                                 , encoding=\"GBK\"\n",
    "                                 , usecols=[\"日期\", \"收盘价\", \"最高价\", \"最低价\", \"开盘价\", \"成交量\"])\n",
    "# 过滤停牌的交易日，条件\"收盘价\",\"最高价\",\"最低价\",\"开盘价\",\"成交量\"均为0\n",
    "data = data[(data[\"收盘价\"] != 0) & (data[\"最高价\"] != 0)\n",
    "            & (data[\"最低价\"] != 0) & (data[\"开盘价\"] != 0)\n",
    "            & (data[\"成交量\"] != 0)]\n",
    "# 修改列\n",
    "data.rename(columns={'日期': 'date', '收盘价': 'close', '最高价': 'high', '最低价': 'low', '开盘价': 'open', '成交量': 'volume'}\n",
    "            , inplace=True)\n",
    "# 将数据倒序输出\n",
    "data = data.reindex(index=data.index[::-1])\n",
    "stock = StockDataFrame.retype(data)\n",
    "stock"
   ]
  },
  {
   "cell_type": "code",
   "execution_count": 38,
   "outputs": [
    {
     "data": {
      "text/plain": "(date\n 1999-11-10          NaN\n 1999-11-11     0.000000\n 1999-11-12    91.071429\n 1999-11-15    46.363636\n 1999-11-16    13.813651\n                 ...    \n 2021-08-18    68.529471\n 2021-08-19    51.108892\n 2021-08-20    56.425764\n 2021-08-23    45.935350\n 2021-08-24    47.605234\n Name: rsi_6, Length: 5164, dtype: float64,\n date\n 1999-11-10          NaN\n 1999-11-11     0.000000\n 1999-11-12    90.265487\n 1999-11-15    48.299613\n 1999-11-16    15.947179\n                 ...    \n 2021-08-18    49.984595\n 2021-08-19    43.819441\n 2021-08-20    46.688736\n 2021-08-23    42.540892\n 2021-08-24    43.325564\n Name: rsi_12, Length: 5164, dtype: float64,\n date\n 1999-11-10          NaN\n 1999-11-11     0.000000\n 1999-11-12    89.867841\n 1999-11-15    49.177235\n 1999-11-16    17.017076\n                 ...    \n 2021-08-18    42.520197\n 2021-08-19    40.012954\n 2021-08-20    41.453883\n 2021-08-23    39.711964\n 2021-08-24    40.087254\n Name: rsi_24, Length: 5164, dtype: float64)"
     },
     "execution_count": 38,
     "metadata": {},
     "output_type": "execute_result"
    }
   ],
   "source": [
    "#\n",
    "\n",
    "# macd:DIF macds:DEA macdh*2:MACD\n",
    "stock['macd'],stock['macds'],stock['macdh']*2\n",
    "# boll:boll-中线  boll_ub:boll-up上线  boll_lb: boll下线\n",
    "stock['boll'],stock['boll_ub'],stock['boll_lb']\n",
    "#KDJ\n",
    "stock['kdjk'],stock['kdjd'],stock['kdjj']\n",
    "#RSI\n",
    "stock['rsi_6'],stock['rsi_12'],stock['rsi_24']\n"
   ],
   "metadata": {
    "collapsed": false,
    "pycharm": {
     "name": "#%%\n"
    }
   }
  }
 ],
 "metadata": {
  "kernelspec": {
   "name": "python3",
   "language": "python",
   "display_name": "Python 3 (ipykernel)"
  },
  "language_info": {
   "codemirror_mode": {
    "name": "ipython",
    "version": 2
   },
   "file_extension": ".py",
   "mimetype": "text/x-python",
   "name": "python",
   "nbconvert_exporter": "python",
   "pygments_lexer": "ipython2",
   "version": "2.7.6"
  }
 },
 "nbformat": 4,
 "nbformat_minor": 0
}